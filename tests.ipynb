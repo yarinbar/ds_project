{
 "cells": [
  {
   "cell_type": "code",
   "execution_count": 57,
   "id": "fd2fed3e",
   "metadata": {
    "scrolled": true
   },
   "outputs": [],
   "source": [
    "import requests\n",
    "import json\n",
    "import random \n",
    "\n",
    "URL = \"http://localhost:\"\n",
    "ports = range(10000,10006)\n",
    "def random_url():\n",
    "    return (URL + str(random.choice(ports))+\"/\")\n",
    "\n",
    "def address(addr):\n",
    "    return str(addr).rjust(16, '0')\n"
   ]
  },
  {
   "cell_type": "markdown",
   "id": "fd3fc86c",
   "metadata": {},
   "source": [
    "### View initial state"
   ]
  },
  {
   "cell_type": "code",
   "execution_count": 58,
   "id": "5e3cc7db",
   "metadata": {
    "scrolled": true
   },
   "outputs": [
    {
     "name": "stdout",
     "output_type": "stream",
     "text": [
      "INITIAL UTXO\n",
      " {\n",
      "  \"utxos\": [{\n",
      "    \"txId\": \"0x00000000001\",\n",
      "    \"utxoId\": \"00000000-0000-0000-0000-000000000000\",\n",
      "    \"addr\": \"0000000000000000\",\n",
      "    \"coins\": \"10000\"\n",
      "  }]\n",
      "}\n"
     ]
    }
   ],
   "source": [
    "initial_utxo = requests.get(random_url() + \"utxos/\" + address(0)).content.decode('utf-8')\n",
    "print(f\"INITIAL UTXO\\n {initial_utxo}\")"
   ]
  },
  {
   "cell_type": "markdown",
   "id": "e36bd0d7",
   "metadata": {},
   "source": [
    "### Send money between addresses handled by different shards\n"
   ]
  },
  {
   "cell_type": "code",
   "execution_count": 59,
   "id": "618ae69f",
   "metadata": {
    "scrolled": true
   },
   "outputs": [
    {
     "data": {
      "text/plain": [
       "<Response [200]>"
      ]
     },
     "execution_count": 59,
     "metadata": {},
     "output_type": "execute_result"
    }
   ],
   "source": [
    "# from 0 to 1\n",
    "requests.post(random_url() + \"sendCoins\", params={\"to\": address(1), \"from\": address(0), \"coins\": \"100\"})\n",
    "# from 1 to 2\n",
    "requests.post(random_url() + \"sendCoins\", params={\"to\": address(2), \"from\": address(1), \"coins\": \"90\"})\n",
    "# from 2 to 3\n",
    "requests.post(random_url() + \"sendCoins\", params={\"to\": address(3), \"from\": address(2), \"coins\": \"80\"})\n",
    "# from 3 to 4\n",
    "requests.post(random_url() + \"sendCoins\", params={\"to\": address(4), \"from\": address(3), \"coins\": \"70\"})\n",
    "# from 4 to 1\n",
    "requests.post(random_url() + \"sendCoins\", params={\"to\": address(1), \"from\": address(4), \"coins\": \"60\"})"
   ]
  },
  {
   "cell_type": "markdown",
   "id": "0b208545",
   "metadata": {},
   "source": [
    "### Get UTxOs after send money series"
   ]
  },
  {
   "cell_type": "code",
   "execution_count": 60,
   "id": "1c9580cf",
   "metadata": {
    "scrolled": true
   },
   "outputs": [
    {
     "name": "stdout",
     "output_type": "stream",
     "text": [
      "\n",
      "1 UTxOs\n",
      "\n",
      "{\n",
      "  \"utxos\": [{\n",
      "    \"txId\": \"ae8af4c7-4855-46e9-8790-7a8dcc73298c\",\n",
      "    \"utxoId\": \"c30200d4-3508-31f8-b761-57d6b794a342\",\n",
      "    \"addr\": \"0000000000000001\",\n",
      "    \"coins\": \"10\"\n",
      "  }]\n",
      "}\n",
      "\n",
      "2 UTxOs\n",
      "\n",
      "{\n",
      "  \"utxos\": [{\n",
      "    \"txId\": \"dc51d422-c315-4589-aca0-9c7adaf1d97c\",\n",
      "    \"utxoId\": \"8270c62e-2b4d-3936-b1bc-068b7e9edd9c\",\n",
      "    \"addr\": \"0000000000000002\",\n",
      "    \"coins\": \"10\"\n",
      "  }]\n",
      "}\n",
      "\n",
      "3 UTxOs\n",
      "\n",
      "{\n",
      "  \"utxos\": [{\n",
      "    \"txId\": \"67fb3cc3-efd1-4462-aec1-816c77024943\",\n",
      "    \"utxoId\": \"2f041397-2987-3471-8251-9dcc5f636c5f\",\n",
      "    \"addr\": \"0000000000000003\",\n",
      "    \"coins\": \"10\"\n",
      "  }]\n",
      "}\n",
      "\n",
      "4 UTxOs\n",
      "\n",
      "{\n",
      "}\n"
     ]
    }
   ],
   "source": [
    "for addr in range(1, 5):\n",
    "\tutxos = requests.get(random_url() + \"utxos/\" + address(addr)).content.decode('utf-8')\n",
    "\tprint(f\"\\n{addr} UTxOs\\n\\n{utxos}\")"
   ]
  },
  {
   "cell_type": "markdown",
   "id": "f775d91e",
   "metadata": {},
   "source": [
    "### Get ledger history for address 0"
   ]
  },
  {
   "cell_type": "code",
   "execution_count": 61,
   "id": "1bd3349e",
   "metadata": {
    "scrolled": true
   },
   "outputs": [
    {
     "name": "stdout",
     "output_type": "stream",
     "text": [
      "Ledger for 0 \n",
      "This is the history for address 0000000000000000:\n",
      "{\n",
      "  \"txs\": [{\n",
      "    \"txId\": \"fd1a7a7a-58bb-4690-b300-f25cacffd2b6\",\n",
      "    \"inputs\": [{\n",
      "      \"txId\": \"0x00000000001\",\n",
      "      \"utxoId\": \"00000000-0000-0000-0000-000000000000\",\n",
      "      \"addr\": \"0000000000000000\",\n",
      "      \"coins\": \"10000\"\n",
      "    }],\n",
      "    \"outputs\": [{\n",
      "      \"addr\": \"0000000000000001\",\n",
      "      \"coins\": \"100\"\n",
      "    }, {\n",
      "      \"addr\": \"0000000000000000\",\n",
      "      \"coins\": \"9900\"\n",
      "    }],\n",
      "    \"timestamp\": \"2022-01-26T12:08:17.601Z\"\n",
      "  }]\n",
      "}\n"
     ]
    }
   ],
   "source": [
    "ledger = requests.get(random_url() + \"ledger/\" + address(0)).content.decode('utf-8')\n",
    "print(f\"Ledger for 0 \\n{ledger}\")"
   ]
  },
  {
   "cell_type": "markdown",
   "id": "f1eeacb3",
   "metadata": {},
   "source": [
    "### Get entire ledger history"
   ]
  },
  {
   "cell_type": "code",
   "execution_count": 62,
   "id": "412ab5dc",
   "metadata": {
    "scrolled": true
   },
   "outputs": [
    {
     "name": "stdout",
     "output_type": "stream",
     "text": [
      "This is the entire ledger history at the moment:\n",
      "{\n",
      "  \"txs\": [{\n",
      "    \"txId\": \"67fb3cc3-efd1-4462-aec1-816c77024943\",\n",
      "    \"inputs\": [{\n",
      "      \"txId\": \"dc51d422-c315-4589-aca0-9c7adaf1d97c\",\n",
      "      \"utxoId\": \"77007dea-d712-38fe-9acf-10dc4ae5cd19\",\n",
      "      \"addr\": \"0000000000000003\",\n",
      "      \"coins\": \"80\"\n",
      "    }],\n",
      "    \"outputs\": [{\n",
      "      \"addr\": \"0000000000000004\",\n",
      "      \"coins\": \"70\"\n",
      "    }, {\n",
      "      \"addr\": \"0000000000000003\",\n",
      "      \"coins\": \"10\"\n",
      "    }],\n",
      "    \"timestamp\": \"2022-01-26T12:08:57.761Z\"\n",
      "  }, {\n",
      "    \"txId\": \"dc51d422-c315-4589-aca0-9c7adaf1d97c\",\n",
      "    \"inputs\": [{\n",
      "      \"txId\": \"ae8af4c7-4855-46e9-8790-7a8dcc73298c\",\n",
      "      \"utxoId\": \"1e7c50b4-5f94-3584-a64e-380e56b68545\",\n",
      "      \"addr\": \"0000000000000002\",\n",
      "      \"coins\": \"90\"\n",
      "    }],\n",
      "    \"outputs\": [{\n",
      "      \"addr\": \"0000000000000003\",\n",
      "      \"coins\": \"80\"\n",
      "    }, {\n",
      "      \"addr\": \"0000000000000002\",\n",
      "      \"coins\": \"10\"\n",
      "    }],\n",
      "    \"timestamp\": \"2022-01-26T12:08:51.159Z\"\n",
      "  }, {\n",
      "    \"txId\": \"ae8af4c7-4855-46e9-8790-7a8dcc73298c\",\n",
      "    \"inputs\": [{\n",
      "      \"txId\": \"fd1a7a7a-58bb-4690-b300-f25cacffd2b6\",\n",
      "      \"utxoId\": \"6c274d8b-2d74-3a6f-9941-a1df63adbf3a\",\n",
      "      \"addr\": \"0000000000000001\",\n",
      "      \"coins\": \"100\"\n",
      "    }],\n",
      "    \"outputs\": [{\n",
      "      \"addr\": \"0000000000000002\",\n",
      "      \"coins\": \"90\"\n",
      "    }, {\n",
      "      \"addr\": \"0000000000000001\",\n",
      "      \"coins\": \"10\"\n",
      "    }],\n",
      "    \"timestamp\": \"2022-01-26T12:08:33.931Z\"\n",
      "  }, {\n",
      "    \"txId\": \"fd1a7a7a-58bb-4690-b300-f25cacffd2b6\",\n",
      "    \"inputs\": [{\n",
      "      \"txId\": \"0x00000000001\",\n",
      "      \"utxoId\": \"00000000-0000-0000-0000-000000000000\",\n",
      "      \"addr\": \"0000000000000000\",\n",
      "      \"coins\": \"10000\"\n",
      "    }],\n",
      "    \"outputs\": [{\n",
      "      \"addr\": \"0000000000000001\",\n",
      "      \"coins\": \"100\"\n",
      "    }, {\n",
      "      \"addr\": \"0000000000000000\",\n",
      "      \"coins\": \"9900\"\n",
      "    }],\n",
      "    \"timestamp\": \"2022-01-26T12:08:17.601Z\"\n",
      "  }]\n",
      "}\n"
     ]
    }
   ],
   "source": [
    "ledger = requests.get(random_url() + \"ledger/\").content.decode('utf-8')\n",
    "print(f\"{ledger}\")"
   ]
  },
  {
   "cell_type": "markdown",
   "id": "2f528f1f",
   "metadata": {},
   "source": [
    "### Make a transaction"
   ]
  },
  {
   "cell_type": "markdown",
   "id": "56fdc603",
   "metadata": {},
   "source": [
    "Transfer half of the coins for address 1 to address 0"
   ]
  },
  {
   "cell_type": "code",
   "execution_count": 66,
   "id": "c1e4430b",
   "metadata": {
    "scrolled": true
   },
   "outputs": [
    {
     "name": "stdout",
     "output_type": "stream",
     "text": [
      "Submitted successfully with ID 16cdd2ed-203a-40c6-8e65-d12a1c5b055d \n"
     ]
    }
   ],
   "source": [
    "utxos_1 = json.loads(requests.get(random_url() + \"utxos/\" + address(0)).content.decode('utf-8'))\n",
    "coins = sum([int(utxo['coins']) for utxo in utxos_1['utxos']]) \n",
    "half_coins = coins //2\n",
    "output1 = {\"addr\": address(1), \"coins\": str(half_coins)}\n",
    "output2 = {\"addr\": address(0), \"coins\": str(coins-half_coins)}\n",
    "new_tx = {}\n",
    "new_tx['inputs'] = utxos_1['utxos']\n",
    "new_tx['outputs'] = output1,output2\n",
    "new_tx=json.dumps(new_tx).encode('utf-8')\n",
    "res = requests.post(random_url() + \"submitTx\", data=new_tx, headers={'Content-Type': 'application/json'})\n",
    "print(res.content.decode('utf-8'))"
   ]
  },
  {
   "cell_type": "markdown",
   "id": "c4f00c35",
   "metadata": {},
   "source": [
    "### Print updated UTxOs for 0 and 1 after the transaction"
   ]
  },
  {
   "cell_type": "code",
   "execution_count": 65,
   "id": "0d94777d",
   "metadata": {
    "scrolled": true
   },
   "outputs": [
    {
     "name": "stdout",
     "output_type": "stream",
     "text": [
      "\n",
      "0 UTxOs\n",
      "\n",
      "{\n",
      "  \"utxos\": [{\n",
      "    \"txId\": \"dc895ee3-ee31-4007-9781-9ced9cb6790b\",\n",
      "    \"utxoId\": \"2702ec58-2fd0-3be4-908a-b57e1585b7d2\",\n",
      "    \"addr\": \"0000000000000000\",\n",
      "    \"coins\": \"4950\"\n",
      "  }]\n",
      "}\n",
      "\n",
      "1 UTxOs\n",
      "\n",
      "{\n",
      "  \"utxos\": [{\n",
      "    \"txId\": \"ae8af4c7-4855-46e9-8790-7a8dcc73298c\",\n",
      "    \"utxoId\": \"c30200d4-3508-31f8-b761-57d6b794a342\",\n",
      "    \"addr\": \"0000000000000001\",\n",
      "    \"coins\": \"10\"\n",
      "  }]\n",
      "}\n"
     ]
    }
   ],
   "source": [
    "for addr in range(0, 2):\n",
    "\tutxos = requests.get(random_url() + \"utxos/\" + address(addr)).content.decode('utf-8')\n",
    "\tprint(f\"\\n{addr} UTxOs\\n\\n{utxos}\")"
   ]
  },
  {
   "cell_type": "code",
   "execution_count": null,
   "id": "6edd2cd9",
   "metadata": {},
   "outputs": [],
   "source": []
  }
 ],
 "metadata": {
  "kernelspec": {
   "display_name": "Python 3 (ipykernel)",
   "language": "python",
   "name": "python3"
  },
  "language_info": {
   "codemirror_mode": {
    "name": "ipython",
    "version": 3
   },
   "file_extension": ".py",
   "mimetype": "text/x-python",
   "name": "python",
   "nbconvert_exporter": "python",
   "pygments_lexer": "ipython3",
   "version": "3.9.9"
  }
 },
 "nbformat": 4,
 "nbformat_minor": 5
}

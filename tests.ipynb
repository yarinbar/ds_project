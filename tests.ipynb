{
 "cells": [
  {
   "cell_type": "code",
   "execution_count": 53,
   "id": "7d23b08f",
   "metadata": {
    "scrolled": true
   },
   "outputs": [],
   "source": [
    "import requests\n",
    "import json\n",
    "import random \n",
    "\n",
    "URL = \"http://localhost:\"\n",
    "ports = range(10000,10006)\n",
    "def random_url():\n",
    "    return (URL + str(random.choice(ports))+\"/\")\n",
    "\n",
    "def address(addr):\n",
    "    return str(addr).rjust(16, '0')\n"
   ]
  },
  {
   "cell_type": "markdown",
   "id": "9e1cfd2f",
   "metadata": {},
   "source": [
    "### View initial state"
   ]
  },
  {
   "cell_type": "code",
   "execution_count": 54,
   "id": "ecf8b695",
   "metadata": {
    "scrolled": true
   },
   "outputs": [
    {
     "name": "stdout",
     "output_type": "stream",
     "text": [
      "INITIAL UTXO\n",
      " {\n",
      "  \"utxos\": [{\n",
      "    \"txId\": \"0x00000000001\",\n",
      "    \"utxoId\": \"00000000-0000-0000-0000-000000000000\",\n",
      "    \"addr\": \"0000000000000000\",\n",
      "    \"coins\": \"10000\"\n",
      "  }]\n",
      "}\n"
     ]
    }
   ],
   "source": [
    "initial_utxo = requests.get(random_url() + \"utxos/\" + address(0)).content.decode('utf-8')\n",
    "print(f\"INITIAL UTXO\\n {initial_utxo}\")"
   ]
  },
  {
   "cell_type": "markdown",
   "id": "fd54fbf9",
   "metadata": {},
   "source": [
    "### Send money between addresses handled by different shards\n"
   ]
  },
  {
   "cell_type": "code",
   "execution_count": 55,
   "id": "712347b1",
   "metadata": {
    "scrolled": true
   },
   "outputs": [
    {
     "data": {
      "text/plain": [
       "<Response [200]>"
      ]
     },
     "execution_count": 55,
     "metadata": {},
     "output_type": "execute_result"
    }
   ],
   "source": [
    "# from 0 to 1\n",
    "requests.post(random_url() + \"sendCoins\", params={\"to\": address(1), \"from\": address(0), \"coins\": \"100\"})\n",
    "# from 1 to 2\n",
    "requests.post(random_url() + \"sendCoins\", params={\"to\": address(2), \"from\": address(1), \"coins\": \"90\"})\n",
    "# from 2 to 3\n",
    "requests.post(random_url() + \"sendCoins\", params={\"to\": address(3), \"from\": address(2), \"coins\": \"80\"})\n",
    "# from 3 to 4\n",
    "requests.post(random_url() + \"sendCoins\", params={\"to\": address(4), \"from\": address(3), \"coins\": \"70\"})\n",
    "# from 4 to 1\n",
    "requests.post(random_url() + \"sendCoins\", params={\"to\": address(1), \"from\": address(4), \"coins\": \"60\"})"
   ]
  },
  {
   "cell_type": "markdown",
   "id": "80dca253",
   "metadata": {},
   "source": [
    "### Get UTxOs after send money series"
   ]
  },
  {
   "cell_type": "code",
   "execution_count": 51,
   "id": "c8b7a212",
   "metadata": {
    "scrolled": true
   },
   "outputs": [
    {
     "name": "stdout",
     "output_type": "stream",
     "text": [
      "\n",
      "1 UTxOs\n",
      "\n",
      "{\n",
      "  \"utxos\": [{\n",
      "    \"txId\": \"09102fce-ada2-4cce-bf73-acce5f41c092\",\n",
      "    \"utxoId\": \"7701b637-a73a-3091-b767-9a3e771f2111\",\n",
      "    \"addr\": \"0000000000000001\",\n",
      "    \"coins\": \"10\"\n",
      "  }]\n",
      "}\n",
      "\n",
      "2 UTxOs\n",
      "\n",
      "{\n",
      "  \"utxos\": [{\n",
      "    \"txId\": \"7fef97c4-ca6a-46aa-adf9-25bc056489fb\",\n",
      "    \"utxoId\": \"1dadeed5-90f3-318a-ae54-def7188efe41\",\n",
      "    \"addr\": \"0000000000000002\",\n",
      "    \"coins\": \"10\"\n",
      "  }]\n",
      "}\n",
      "\n",
      "3 UTxOs\n",
      "\n",
      "{\n",
      "}\n",
      "\n",
      "4 UTxOs\n",
      "\n",
      "{\n",
      "}\n"
     ]
    }
   ],
   "source": [
    "for addr in range(1, 5):\n",
    "\tutxos = requests.get(random_url() + \"utxos/\" + address(addr)).content.decode('utf-8')\n",
    "\tprint(f\"\\n{addr} UTxOs\\n\\n{utxos}\")"
   ]
  },
  {
   "cell_type": "markdown",
   "id": "cb3b2f21",
   "metadata": {},
   "source": [
    "### Get ledger history for address 0"
   ]
  },
  {
   "cell_type": "code",
   "execution_count": null,
   "id": "a2c0fdb0",
   "metadata": {
    "scrolled": true
   },
   "outputs": [],
   "source": [
    "ledger = requests.get(random_url() + \"ledger/\" + address(0)).content.decode('utf-8')\n",
    "print(f\"Ledger for 0 \\n{ledger}\")"
   ]
  },
  {
   "cell_type": "markdown",
   "id": "4dcb0d74",
   "metadata": {},
   "source": [
    "### Get entire ledger history"
   ]
  },
  {
   "cell_type": "code",
   "execution_count": null,
   "id": "94d5a90f",
   "metadata": {
    "scrolled": true
   },
   "outputs": [],
   "source": [
    "ledger = requests.get(random_url() + \"ledger/\").content.decode('utf-8')\n",
    "print(f\"{ledger}\")"
   ]
  },
  {
   "cell_type": "markdown",
   "id": "c9414da2",
   "metadata": {},
   "source": [
    "### Make a transaction"
   ]
  },
  {
   "cell_type": "markdown",
   "id": "f6ee9169",
   "metadata": {},
   "source": [
    "Transfer half of the coins for address 1 to address 0"
   ]
  },
  {
   "cell_type": "code",
   "execution_count": null,
   "id": "08d570e4",
   "metadata": {
    "scrolled": true
   },
   "outputs": [],
   "source": [
    "utxos_1 = json.loads(requests.get(random_url() + \"utxos/\" + address(0)).content.decode('utf-8'))\n",
    "coins = sum([int(utxo['coins']) for utxo in utxos_1['utxos']]) \n",
    "half_coins = coins //2\n",
    "output1 = {\"addr\": address(1), \"coins\": str(half_coins)}\n",
    "output2 = {\"addr\": address(0), \"coins\": str(coins-half_coins)}\n",
    "new_tx = {}\n",
    "new_tx['inputs'] = utxos_1['utxos']\n",
    "new_tx['outputs'] = output1,output2\n",
    "new_tx=json.dumps(new_tx).encode('utf-8')\n",
    "res = requests.post(URL + \"submitTx\", data=new_tx, headers={'Content-Type': 'application/json'})\n",
    "print(res.content.decode('utf-8'))"
   ]
  },
  {
   "cell_type": "markdown",
   "id": "1a58250b",
   "metadata": {},
   "source": [
    "### Print updated UTxOs for 0 and 1 after the transaction"
   ]
  },
  {
   "cell_type": "code",
   "execution_count": null,
   "id": "3f5185e1",
   "metadata": {
    "scrolled": true
   },
   "outputs": [],
   "source": [
    "for addr in range(0, 2):\n",
    "\tutxos = requests.get(random_url() + \"utxos/\" + address(addr)).content.decode('utf-8')\n",
    "\tprint(f\"\\n{addr} UTxOs\\n\\n{utxos}\")"
   ]
  }
 ],
 "metadata": {
  "kernelspec": {
   "display_name": "Python 3 (ipykernel)",
   "language": "python",
   "name": "python3"
  },
  "language_info": {
   "codemirror_mode": {
    "name": "ipython",
    "version": 3
   },
   "file_extension": ".py",
   "mimetype": "text/x-python",
   "name": "python",
   "nbconvert_exporter": "python",
   "pygments_lexer": "ipython3",
   "version": "3.9.9"
  }
 },
 "nbformat": 4,
 "nbformat_minor": 5
}

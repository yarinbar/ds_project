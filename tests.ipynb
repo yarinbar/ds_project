{
 "cells": [
  {
   "cell_type": "code",
   "execution_count": 1,
   "id": "fd2fed3e",
   "metadata": {
    "scrolled": true
   },
   "outputs": [],
   "source": [
    "import requests\n",
    "import json\n",
    "import random \n",
    "\n",
    "URL = \"http://localhost:\"\n",
    "ports = range(10000,10006)\n",
    "def random_url():\n",
    "    return (URL + str(random.choice(ports))+\"/\")\n",
    "\n",
    "def address(addr):\n",
    "    return str(addr).rjust(16, '0')\n"
   ]
  },
  {
   "cell_type": "markdown",
   "id": "fd3fc86c",
   "metadata": {},
   "source": [
    "### View initial state"
   ]
  },
  {
   "cell_type": "code",
   "execution_count": 2,
   "id": "5e3cc7db",
   "metadata": {
    "tags": []
   },
   "outputs": [
    {
     "name": "stdout",
     "output_type": "stream",
     "text": [
      "INITIAL UTXO\n",
      " {\n",
      "  \"utxos\": [{\n",
      "    \"txId\": \"0x00000000001\",\n",
      "    \"utxoId\": \"00000000-0000-0000-0000-000000000000\",\n",
      "    \"addr\": \"0000000000000000\",\n",
      "    \"coins\": \"9223372036854775807\"\n",
      "  }]\n",
      "}\n"
     ]
    }
   ],
   "source": [
    "initial_utxo = requests.get(random_url() + \"utxos/\" + address(0)).content.decode('utf-8')\n",
    "print(f\"INITIAL UTXO\\n {initial_utxo}\")"
   ]
  },
  {
   "cell_type": "markdown",
   "id": "e36bd0d7",
   "metadata": {},
   "source": [
    "### Send money between addresses handled by different shards\n"
   ]
  },
  {
   "cell_type": "code",
   "execution_count": 3,
   "id": "618ae69f",
   "metadata": {
    "scrolled": true
   },
   "outputs": [
    {
     "data": {
      "text/plain": [
       "<Response [200]>"
      ]
     },
     "execution_count": 3,
     "metadata": {},
     "output_type": "execute_result"
    }
   ],
   "source": [
    "# from 0 to 1\n",
    "requests.post(random_url() + \"sendCoins\", params={\"to\": address(1), \"from\": address(0), \"coins\": \"100\"})\n",
    "# from 1 to 2\n",
    "requests.post(random_url() + \"sendCoins\", params={\"to\": address(2), \"from\": address(1), \"coins\": \"90\"})\n",
    "# from 2 to 3\n",
    "requests.post(random_url() + \"sendCoins\", params={\"to\": address(3), \"from\": address(2), \"coins\": \"80\"})\n",
    "# from 3 to 4\n",
    "requests.post(random_url() + \"sendCoins\", params={\"to\": address(4), \"from\": address(3), \"coins\": \"70\"})\n",
    "# from 4 to 1\n",
    "requests.post(random_url() + \"sendCoins\", params={\"to\": address(1), \"from\": address(4), \"coins\": \"60\"})"
   ]
  },
  {
   "cell_type": "markdown",
   "id": "0b208545",
   "metadata": {},
   "source": [
    "### Get UTxOs after send money series"
   ]
  },
  {
   "cell_type": "code",
   "execution_count": 4,
   "id": "1c9580cf",
   "metadata": {
    "tags": []
   },
   "outputs": [
    {
     "name": "stdout",
     "output_type": "stream",
     "text": [
      "\n",
      "1 UTxOs\n",
      "\n",
      "{\n",
      "  \"utxos\": [{\n",
      "    \"txId\": \"f3a3b16c-3358-4f3f-a470-cefb05237585\",\n",
      "    \"utxoId\": \"cab1bdaa-6f73-3c3f-b680-2c0dcade1404\",\n",
      "    \"addr\": \"0000000000000001\",\n",
      "    \"coins\": \"10\"\n",
      "  }, {\n",
      "    \"txId\": \"f0b16850-4485-49e8-a593-2899fee2d3a8\",\n",
      "    \"utxoId\": \"5e1481d1-975a-3bdb-a2c6-847511550a66\",\n",
      "    \"addr\": \"0000000000000001\",\n",
      "    \"coins\": \"60\"\n",
      "  }]\n",
      "}\n",
      "\n",
      "2 UTxOs\n",
      "\n",
      "{\n",
      "  \"utxos\": [{\n",
      "    \"txId\": \"7f1e7d4b-a395-41e5-a503-01d2f7865ab8\",\n",
      "    \"utxoId\": \"e7bd638c-5759-3971-874d-2935aa75ce53\",\n",
      "    \"addr\": \"0000000000000002\",\n",
      "    \"coins\": \"10\"\n",
      "  }]\n",
      "}\n",
      "\n",
      "3 UTxOs\n",
      "\n",
      "{\n",
      "  \"utxos\": [{\n",
      "    \"txId\": \"1307c100-7578-4523-8101-68998fcfcdeb\",\n",
      "    \"utxoId\": \"e845e4c1-0c3b-304d-853b-08ec48e9c571\",\n",
      "    \"addr\": \"0000000000000003\",\n",
      "    \"coins\": \"10\"\n",
      "  }]\n",
      "}\n",
      "\n",
      "4 UTxOs\n",
      "\n",
      "{\n",
      "  \"utxos\": [{\n",
      "    \"txId\": \"f0b16850-4485-49e8-a593-2899fee2d3a8\",\n",
      "    \"utxoId\": \"001c6fd4-2b55-392e-995a-391ec6d7cdb2\",\n",
      "    \"addr\": \"0000000000000004\",\n",
      "    \"coins\": \"10\"\n",
      "  }]\n",
      "}\n"
     ]
    }
   ],
   "source": [
    "for addr in range(1, 5):\n",
    "\tutxos = requests.get(random_url() + \"utxos/\" + address(addr)).content.decode('utf-8')\n",
    "\tprint(f\"\\n{addr} UTxOs\\n\\n{utxos}\")"
   ]
  },
  {
   "cell_type": "markdown",
   "id": "f775d91e",
   "metadata": {},
   "source": [
    "### Get ledger history for address 0"
   ]
  },
  {
   "cell_type": "code",
   "execution_count": 5,
   "id": "1bd3349e",
   "metadata": {
    "tags": []
   },
   "outputs": [
    {
     "name": "stdout",
     "output_type": "stream",
     "text": [
      "Ledger for 0 \n",
      "This is the history for address 0000000000000000:\n",
      "{\n",
      "  \"txs\": [{\n",
      "    \"txId\": \"44b5b8e1-ab59-4f17-9d53-f813d9e58337\",\n",
      "    \"inputs\": [{\n",
      "      \"txId\": \"0x00000000001\",\n",
      "      \"utxoId\": \"00000000-0000-0000-0000-000000000000\",\n",
      "      \"addr\": \"0000000000000000\",\n",
      "      \"coins\": \"9223372036854775807\"\n",
      "    }],\n",
      "    \"outputs\": [{\n",
      "      \"addr\": \"0000000000000001\",\n",
      "      \"coins\": \"100\"\n",
      "    }, {\n",
      "      \"addr\": \"0000000000000000\",\n",
      "      \"coins\": \"9223372036854775707\"\n",
      "    }],\n",
      "    \"timestamp\": \"2022-01-26T16:03:55.909Z\"\n",
      "  }]\n",
      "}\n"
     ]
    }
   ],
   "source": [
    "ledger = requests.get(random_url() + \"ledger/\" + address(0)).content.decode('utf-8')\n",
    "print(f\"Ledger for 0 \\n{ledger}\")"
   ]
  },
  {
   "cell_type": "markdown",
   "id": "f1eeacb3",
   "metadata": {},
   "source": [
    "### Get entire ledger history"
   ]
  },
  {
   "cell_type": "code",
   "execution_count": 6,
   "id": "412ab5dc",
   "metadata": {
    "tags": []
   },
   "outputs": [
    {
     "name": "stdout",
     "output_type": "stream",
     "text": [
      "This is the entire ledger history at the moment:\n",
      "{\n",
      "  \"txs\": [{\n",
      "    \"txId\": \"f0b16850-4485-49e8-a593-2899fee2d3a8\",\n",
      "    \"inputs\": [{\n",
      "      \"txId\": \"1307c100-7578-4523-8101-68998fcfcdeb\",\n",
      "      \"utxoId\": \"a3965b74-2542-3f4c-96c8-fe407ee08fab\",\n",
      "      \"addr\": \"0000000000000004\",\n",
      "      \"coins\": \"70\"\n",
      "    }],\n",
      "    \"outputs\": [{\n",
      "      \"addr\": \"0000000000000001\",\n",
      "      \"coins\": \"60\"\n",
      "    }, {\n",
      "      \"addr\": \"0000000000000004\",\n",
      "      \"coins\": \"10\"\n",
      "    }],\n",
      "    \"timestamp\": \"2022-01-26T16:03:58.703Z\"\n",
      "  }, {\n",
      "    \"txId\": \"1307c100-7578-4523-8101-68998fcfcdeb\",\n",
      "    \"inputs\": [{\n",
      "      \"txId\": \"7f1e7d4b-a395-41e5-a503-01d2f7865ab8\",\n",
      "      \"utxoId\": \"10718417-a84e-31cc-a53a-7b50942232db\",\n",
      "      \"addr\": \"0000000000000003\",\n",
      "      \"coins\": \"80\"\n",
      "    }],\n",
      "    \"outputs\": [{\n",
      "      \"addr\": \"0000000000000004\",\n",
      "      \"coins\": \"70\"\n",
      "    }, {\n",
      "      \"addr\": \"0000000000000003\",\n",
      "      \"coins\": \"10\"\n",
      "    }],\n",
      "    \"timestamp\": \"2022-01-26T16:03:58.215Z\"\n",
      "  }, {\n",
      "    \"txId\": \"7f1e7d4b-a395-41e5-a503-01d2f7865ab8\",\n",
      "    \"inputs\": [{\n",
      "      \"txId\": \"f3a3b16c-3358-4f3f-a470-cefb05237585\",\n",
      "      \"utxoId\": \"6a3b839a-2d25-3f25-a8db-37d0f5f4a36b\",\n",
      "      \"addr\": \"0000000000000002\",\n",
      "      \"coins\": \"90\"\n",
      "    }],\n",
      "    \"outputs\": [{\n",
      "      \"addr\": \"0000000000000003\",\n",
      "      \"coins\": \"80\"\n",
      "    }, {\n",
      "      \"addr\": \"0000000000000002\",\n",
      "      \"coins\": \"10\"\n",
      "    }],\n",
      "    \"timestamp\": \"2022-01-26T16:03:57.988Z\"\n",
      "  }, {\n",
      "    \"txId\": \"f3a3b16c-3358-4f3f-a470-cefb05237585\",\n",
      "    \"inputs\": [{\n",
      "      \"txId\": \"44b5b8e1-ab59-4f17-9d53-f813d9e58337\",\n",
      "      \"utxoId\": \"72eaa750-f8c9-3acd-9b6d-696115160ceb\",\n",
      "      \"addr\": \"0000000000000001\",\n",
      "      \"coins\": \"100\"\n",
      "    }],\n",
      "    \"outputs\": [{\n",
      "      \"addr\": \"0000000000000002\",\n",
      "      \"coins\": \"90\"\n",
      "    }, {\n",
      "      \"addr\": \"0000000000000001\",\n",
      "      \"coins\": \"10\"\n",
      "    }],\n",
      "    \"timestamp\": \"2022-01-26T16:03:57.628Z\"\n",
      "  }, {\n",
      "    \"txId\": \"44b5b8e1-ab59-4f17-9d53-f813d9e58337\",\n",
      "    \"inputs\": [{\n",
      "      \"txId\": \"0x00000000001\",\n",
      "      \"utxoId\": \"00000000-0000-0000-0000-000000000000\",\n",
      "      \"addr\": \"0000000000000000\",\n",
      "      \"coins\": \"9223372036854775807\"\n",
      "    }],\n",
      "    \"outputs\": [{\n",
      "      \"addr\": \"0000000000000001\",\n",
      "      \"coins\": \"100\"\n",
      "    }, {\n",
      "      \"addr\": \"0000000000000000\",\n",
      "      \"coins\": \"9223372036854775707\"\n",
      "    }],\n",
      "    \"timestamp\": \"2022-01-26T16:03:55.909Z\"\n",
      "  }]\n",
      "}\n"
     ]
    }
   ],
   "source": [
    "ledger = requests.get(random_url() + \"ledger/\").content.decode('utf-8')\n",
    "print(f\"{ledger}\")"
   ]
  },
  {
   "cell_type": "markdown",
   "id": "2f528f1f",
   "metadata": {},
   "source": [
    "### Make a transaction"
   ]
  },
  {
   "cell_type": "markdown",
   "id": "56fdc603",
   "metadata": {},
   "source": [
    "Transfer half of the coins for address 1 to address 0"
   ]
  },
  {
   "cell_type": "code",
   "execution_count": 7,
   "id": "c1e4430b",
   "metadata": {
    "tags": []
   },
   "outputs": [
    {
     "name": "stdout",
     "output_type": "stream",
     "text": [
      "Submitted successfully with ID bfb3bc3f-f322-4bf3-8b76-c37cf03e632e \n"
     ]
    }
   ],
   "source": [
    "utxos_1 = json.loads(requests.get(random_url() + \"utxos/\" + address(0)).content.decode('utf-8'))\n",
    "coins = sum([int(utxo['coins']) for utxo in utxos_1['utxos']]) \n",
    "half_coins = coins //2\n",
    "output1 = {\"addr\": address(1), \"coins\": str(half_coins)}\n",
    "output2 = {\"addr\": address(0), \"coins\": str(coins-half_coins)}\n",
    "new_tx = {}\n",
    "new_tx['inputs'] = utxos_1['utxos']\n",
    "new_tx['outputs'] = output1,output2\n",
    "new_tx=json.dumps(new_tx).encode('utf-8')\n",
    "res = requests.post(random_url() + \"submitTx\", data=new_tx, headers={'Content-Type': 'application/json'})\n",
    "print(res.content.decode('utf-8'))"
   ]
  },
  {
   "cell_type": "markdown",
   "id": "c4f00c35",
   "metadata": {},
   "source": [
    "### Print updated UTxOs for 0 and 1 after the transaction"
   ]
  },
  {
   "cell_type": "code",
   "execution_count": 8,
   "id": "0d94777d",
   "metadata": {
    "tags": []
   },
   "outputs": [
    {
     "name": "stdout",
     "output_type": "stream",
     "text": [
      "\n",
      "0 UTxOs\n",
      "\n",
      "{\n",
      "  \"utxos\": [{\n",
      "    \"txId\": \"bfb3bc3f-f322-4bf3-8b76-c37cf03e632e\",\n",
      "    \"utxoId\": \"aa9eba29-2ae1-3801-ade0-44c633230c1b\",\n",
      "    \"addr\": \"0000000000000000\",\n",
      "    \"coins\": \"4611686018427387854\"\n",
      "  }]\n",
      "}\n",
      "\n",
      "1 UTxOs\n",
      "\n",
      "{\n",
      "  \"utxos\": [{\n",
      "    \"txId\": \"f3a3b16c-3358-4f3f-a470-cefb05237585\",\n",
      "    \"utxoId\": \"cab1bdaa-6f73-3c3f-b680-2c0dcade1404\",\n",
      "    \"addr\": \"0000000000000001\",\n",
      "    \"coins\": \"10\"\n",
      "  }, {\n",
      "    \"txId\": \"f0b16850-4485-49e8-a593-2899fee2d3a8\",\n",
      "    \"utxoId\": \"5e1481d1-975a-3bdb-a2c6-847511550a66\",\n",
      "    \"addr\": \"0000000000000001\",\n",
      "    \"coins\": \"60\"\n",
      "  }, {\n",
      "    \"txId\": \"bfb3bc3f-f322-4bf3-8b76-c37cf03e632e\",\n",
      "    \"utxoId\": \"d07e7895-351f-3a54-8ddf-075b8c52f489\",\n",
      "    \"addr\": \"0000000000000001\",\n",
      "    \"coins\": \"4611686018427387853\"\n",
      "  }]\n",
      "}\n"
     ]
    }
   ],
   "source": [
    "for addr in range(0, 2):\n",
    "\tutxos = requests.get(random_url() + \"utxos/\" + address(addr)).content.decode('utf-8')\n",
    "\tprint(f\"\\n{addr} UTxOs\\n\\n{utxos}\")"
   ]
  },
  {
   "cell_type": "code",
   "execution_count": null,
   "id": "6edd2cd9",
   "metadata": {},
   "outputs": [],
   "source": []
  }
 ],
 "metadata": {
  "kernelspec": {
   "display_name": "Python 3 (ipykernel)",
   "language": "python",
   "name": "python3"
  },
  "language_info": {
   "codemirror_mode": {
    "name": "ipython",
    "version": 3
   },
   "file_extension": ".py",
   "mimetype": "text/x-python",
   "name": "python",
   "nbconvert_exporter": "python",
   "pygments_lexer": "ipython3",
   "version": "3.9.7"
  }
 },
 "nbformat": 4,
 "nbformat_minor": 5
}
